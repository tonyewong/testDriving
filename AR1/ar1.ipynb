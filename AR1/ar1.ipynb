{
 "cells": [
  {
   "cell_type": "markdown",
   "metadata": {},
   "source": [
    "# AR1 processes: approximation check\n",
    "\n",
    "Tony Wong (<anthony.e.wong@colorado.edu>)\n",
    "\n",
    "---\n",
    "\n",
    "Some preliminaries:"
   ]
  },
  {
   "cell_type": "code",
   "execution_count": 1,
   "metadata": {
    "collapsed": true
   },
   "outputs": [],
   "source": [
    "library(mvtnorm)\n",
    "library(repr)\n",
    "set.seed(1234)"
   ]
  },
  {
   "cell_type": "markdown",
   "metadata": {},
   "source": [
    "Given:\n",
    "* Modeled time series: $\\eta_t$, $1 \\leq t \\leq N$\n",
    "* Data time series: $y_t$\n",
    "* Model-data residuals: $r_t = y_t - \\eta_t$\n",
    "\n",
    "We suppose the model-date residuals $r_t$ are governed by a mean-0 first-order autoregressive process (AR1). Mean-0 implies there is no overall long-term drift. Such an AR1 model is:  $r_{t} = \\rho r_{t-1} + \\epsilon_t$, where $\\epsilon_t \\sim N(0, \\sigma^2)$, $\\sigma^2$ is the innovation variance and $\\rho$ is the lag-1 autocorrelation coefficient. The AR1 process variance, $\\sigma_{proc}^2 = \\textrm{Var}(r_t)$, is given by:\n",
    "\n",
    "$\\begin{align*}\n",
    "  \\textrm{Var}(r_t) &= \\textrm{Var}(\\rho r_{t-1} + \\epsilon_t) \\\\\n",
    "    \\sigma_{proc}^2 &= \\textrm{Var}(\\rho r_{t-1}) + \\textrm{Var}(\\epsilon_t) \\\\\n",
    "                    &= \\rho^2 \\textrm{Var}(r_{t-1}) + \\sigma^2 \\\\\n",
    "                    &= \\rho^2 \\sigma_{proc}^2 + \\sigma^2 \\\\\n",
    "  \\sigma_{proc}^2 (1-\\rho^2) &= \\sigma^2 \\\\\n",
    "  \\sigma_{proc}^2 &= \\dfrac{\\sigma^2}{1-\\rho^2}\n",
    "\\end{align*}$\n",
    "\n",
    "One can also check that $E[r_t] = 0$ (i.e., this is indeed a mean-0 AR process).\n",
    "\n",
    "Suppose we have AR1 parameters: $\\sigma = 1$ and $\\rho = 0.9$."
   ]
  },
  {
   "cell_type": "code",
   "execution_count": 2,
   "metadata": {
    "collapsed": true
   },
   "outputs": [],
   "source": [
    "rho <- 0.9\n",
    "sigma <- 1\n",
    "sigma_proc <- sigma/sqrt(1-rho*rho)"
   ]
  },
  {
   "cell_type": "markdown",
   "metadata": {},
   "source": [
    "We want to answer the question: given a set of residuals, $r_t, 1 \\leq t \\leq N$, what is the likelihood of our data, given the model that produced these residuals?  Or, more informally, what is the likelihood function value?\n",
    "\n",
    "To answer this question, let's first draw a set of residuals that follow an AR1 process."
   ]
  },
  {
   "cell_type": "markdown",
   "metadata": {},
   "source": [
    "### One way to draw random sample of residuals:\n",
    "\n",
    "Initial residual considered distributed $r_1 \\sim N(0, \\sigma_{proc}^2)$, where $\\sigma_{proc} = \\dfrac{\\sigma}{\\sqrt{1-\\rho^2}}$, then we can draw $r_t$ for $2 \\leq t \\leq N$ from $N(\\rho r_{t-1}, \\sigma^2)$.\n",
    "\n",
    "The AR1 approximation method in BRICK is using $w_t = r_t - \\rho r_{t-1} \\sim N(0, \\sigma^2)$"
   ]
  },
  {
   "cell_type": "code",
   "execution_count": 3,
   "metadata": {},
   "outputs": [],
   "source": [
    "N <- 200\n",
    "r1 <- rep(NA, N)\n",
    "r1[1] <- rnorm(mean=0, sd=sigma_proc, n=1)\n",
    "for (t in 2:N) {\n",
    "    r1[t] <- rnorm(mean=rho*r1[t-1], sd=sigma, n=1)\n",
    "}"
   ]
  },
  {
   "cell_type": "markdown",
   "metadata": {},
   "source": [
    "### Let's talk covariances\n",
    "\n",
    "Consider instead the residuals vector $\\vec{r} = [r_1, r_2, \\ldots, r_N]^T$. Let's build up the covariance matrix, $\\Sigma_{AR1}$, of this guy.\n",
    "\n",
    "Covariance matrix is defined to be:\n",
    "\n",
    "$\\Sigma_{AR1} = \\left( \\begin{array}{ccccc} E[(r_1-\\bar{r_1})(r_1-\\bar{r_1})]  & E[(r_1-\\bar{r_1})(r_2-\\bar{r_2})] & E[(r_1-\\bar{r_1})(r_3-\\bar{r_3})] & \\cdots & E[(r_1-\\bar{r_1})(r_N-\\bar{r_N})] \\\\\n",
    "  E[(r_2-\\bar{r_2})(r_1-\\bar{r_1})] & E[(r_2-\\bar{r_2})(r_2-\\bar{r_2})]   & E[(r_2-\\bar{r_2})(r_3-\\bar{r_3})]  & \\cdots & E[(r_2-\\bar{r_2})(r_N-\\bar{r_N})] \\\\\n",
    "  E[(r_3-\\bar{r_3})(r_1-\\bar{r_1})] & E[(r_3-\\bar{r_3})(r_2-\\bar{r_2})]   & E[(r_3-\\bar{r_3})(r_3-\\bar{r_3})]  & \\cdots & E[(r_3-\\bar{r_3})(r_N-\\bar{r_N})] \\\\\n",
    "                                           \\vdots &      &        & \\ddots & \\\\\n",
    "  E[(r_N-\\bar{r_N})(r_1-\\bar{r_1})] & E[(r_N-\\bar{r_N})(r_2-\\bar{r_2})]   & E[(r_N-\\bar{r_N})(r_3-\\bar{r_3})]  & \\cdots & E[(r_N-\\bar{r_N})(r_N-\\bar{r_N})] \\\\\n",
    "                                           \\end{array} \\right)$\n",
    "\n",
    "But we have a mean-0 process ($E[r_t]=0$), so all of those $\\bar{r_t} =0$ and things simplify a bit to:\n",
    "\n",
    "$\\Sigma_{AR1} = \\left( \\begin{array}{ccccc} E[r_1^2]  & E[r_1 r_2] & E[r_1 r_3] & \\cdots & E[r_1 r_N] \\\\\n",
    "  E[r_2 r_1] & E[r_2^2]   & E[r_2 r_3]  & \\cdots & E[r_2 r_N] \\\\\n",
    "  E[r_3 r_1] & E[r_3 r_2]   & E[r_3^2]  & \\cdots & E[r_3 r_N] \\\\\n",
    "                                           \\vdots &      &        & \\ddots & \\\\\n",
    "  E[r_N r_1] & E[r_N r_2]   & E[r_N r_3]  & \\cdots & E[r_N^2] \\\\\n",
    "                                           \\end{array} \\right)$\n",
    "\n",
    "Along the diagonal, we have $E[r_t^2]$. We reconnect with our old friend, the variance formula: $\\textrm{Var}(r_t) = E[r_t^2] - E[r_t]^2$.  But, it turns out $E[r_t]=0$, so we're left with $E[r_t^2] = \\textrm{Var}(r_t) = \\sigma_{proc}^2$ all down the diagonal.\n",
    "\n",
    "As for the off-diagonal elements, let's just look at a couple, notice a pattern, and then take for granted that this pattern holds.\n",
    "\n",
    "The row 1, column 2 element of $\\Sigma_{AR1}$ is:\n",
    "\n",
    "$\\begin{align*}\n",
    "  E[r_1 r_2] &= E[r_1 (\\rho r_1 + \\epsilon_2)] \\\\\n",
    "             &= E[\\rho r_1^2] + E[r_1 \\epsilon_2] \\\\\n",
    "             &= \\rho E[r_1^2] \\\\\n",
    "             &= \\rho \\sigma_{proc}^2\n",
    "\\end{align*}$\n",
    "\n",
    "This used the fact that $E[r_1 \\epsilon_2] = 0$ because both $E[r_1]=0$ and $E[\\epsilon_2]=0$.\n",
    "\n",
    "Similarly, the row 1, column 3 element of $\\Sigma_{AR1}$ is:\n",
    "\n",
    "$\\begin{align*}\n",
    "  E[r_1 r_3] &= E[r_1 (\\rho r_2 + \\epsilon_3)] \\\\\n",
    "             &= E[r_1 (\\rho (\\rho r_1 + \\epsilon_2) + \\epsilon_3)] \\\\\n",
    "             &= E[r_1 (\\rho^2 r_1 + \\rho \\epsilon_2 + \\epsilon_3)] \\\\\n",
    "             &= E[\\rho^2 r_1^2 + \\rho r_1 \\epsilon_2 + r_1 \\epsilon_3] \\\\\n",
    "             &= E[\\rho^2 r_1^2] + \\rho E[r_1 \\epsilon_2] + E[r_1 \\epsilon_3] \\\\\n",
    "             &= \\rho^2 E[r_1^2] \\\\\n",
    "             &= \\rho^2 \\sigma_{proc}^2\n",
    "\\end{align*}$\n",
    "\n",
    "Where, again, we used the fact that $E[r_{t_1} \\epsilon_{t_2}] = 0$ for all $t_1, t_2$.\n",
    "\n",
    "Continuing this pattern away from the diagonal, we find:\n",
    "\n",
    "$\\Sigma_{AR1} = \\dfrac{\\sigma^2}{1-\\rho^2}\n",
    "                   \\left( \\begin{array}{ccccc} 1      & \\rho & \\rho^2 & \\cdots & \\rho^{N-1} \\\\\n",
    "                                               \\rho   & 1    & \\rho   & \\cdots & \\rho^{N-2} \\\\\n",
    "                                               \\rho^2 & \\rho & 1      & \\cdots & \\rho^{N-3} \\\\\n",
    "                                               \\vdots &      &        & \\ddots & \\\\\n",
    "                                               \\rho^{N-1} &  &        &        & 1\n",
    "                                               \\end{array} \\right)$\n",
    "                                               \n",
    "And since $E[r_t] = 0$ for each $t$, $E[\\vec{r}] = \\vec{0}$. Thus, $\\vec{r} \\sim MVN(\\vec{0}, \\Sigma_{AR1})$, a multivariate normal distribution centered at $\\vec{0}$ and with covariance $\\Sigma_{AR1}$.\n",
    "\n",
    "### Another way to draw random sample of residuals\n",
    "\n",
    "This multivariate normal interpretation gives rise to another form for drawing a random sample of residuals. Here, we construct the $\\Sigma_{AR1}$ matrix (`Sigma`) and draw a sample:"
   ]
  },
  {
   "cell_type": "code",
   "execution_count": 4,
   "metadata": {
    "collapsed": true
   },
   "outputs": [],
   "source": [
    "powers <- abs(outer(1:N, 1:N, \"-\"))\n",
    "Sigma <- sigma_proc*sigma_proc * (rho^powers)\n",
    "r2 <- rmvnorm(mean=rep(0,N), sigma=Sigma, n=1)"
   ]
  },
  {
   "cell_type": "markdown",
   "metadata": {},
   "source": [
    "### Let's plot them and see how they compare"
   ]
  },
  {
   "cell_type": "code",
   "execution_count": 5,
   "metadata": {},
   "outputs": [
    {
     "data": {
      "image/png": "[encoded data removed]",
      "text/plain": [
       "Plot with title “”"
      ]
     },
     "metadata": {},
     "output_type": "display_data"
    }
   ],
   "source": [
    "options(repr.plot.width=6, repr.plot.height=3)\n",
    "par(mfrow=c(1,2))\n",
    "hist(r1, freq=FALSE, main='', xlim=c(-6,6), ylim=c(0,.4))\n",
    "hist(r2, freq=FALSE, main='', xlim=c(-6,6), ylim=c(0,.4))"
   ]
  },
  {
   "cell_type": "markdown",
   "metadata": {},
   "source": [
    "### We care about the *likelihood function*, dammit!\n",
    "\n",
    "Not bad but we want to know how this affects the likelihood function.\n",
    "\n",
    "`r1` was cooked up using exactly the definition of the AR1 process. Here is the likelihood function for `r1`, using the approximation:"
   ]
  },
  {
   "cell_type": "code",
   "execution_count": 6,
   "metadata": {},
   "outputs": [
    {
     "name": "stdout",
     "output_type": "stream",
     "text": [
      "[1] -286.1289\n"
     ]
    }
   ],
   "source": [
    "# whitened residuals\n",
    "w <- r1[2:N] - rho*r1[1:(N-1)]\n",
    "ll1 <- sum(dnorm(w, mean=0, sd=sigma, log=TRUE))\n",
    "print(ll1)"
   ]
  },
  {
   "cell_type": "markdown",
   "metadata": {},
   "source": [
    "Now, use the $\\Sigma_{AR1}$ matrix and multivariate normal:"
   ]
  },
  {
   "cell_type": "code",
   "execution_count": 7,
   "metadata": {},
   "outputs": [
    {
     "name": "stdout",
     "output_type": "stream",
     "text": [
      "[1] -288.6068\n"
     ]
    }
   ],
   "source": [
    "ll2 <- dmvnorm(r1, mean=rep(0,N), sigma=Sigma, log=TRUE)\n",
    "print(ll2)"
   ]
  },
  {
   "cell_type": "markdown",
   "metadata": {},
   "source": [
    "Neat-o - that's pretty close! But let's see how well we do on average."
   ]
  },
  {
   "cell_type": "code",
   "execution_count": 8,
   "metadata": {},
   "outputs": [
    {
     "data": {
      "image/png": "[encoded data removed]",
      "text/plain": [
       "Plot with title “”"
      ]
     },
     "metadata": {},
     "output_type": "display_data"
    }
   ],
   "source": [
    "n_sample <- 1000\n",
    "ll1 <- rep(NA, n_sample)\n",
    "ll2 <- rep(NA, n_sample)\n",
    "for (k in 1:n_sample) {\n",
    "    # draw some random AR1 process\n",
    "    r1 <- rep(NA, N)\n",
    "    r1[1] <- rnorm(mean=0, sd=sigma_proc, n=1)\n",
    "    for (t in 2:N) {\n",
    "        r1[t] <- rnorm(mean=rho*r1[t-1], sd=sigma, n=1)\n",
    "    }\n",
    "    # get likelihood using the approximation method\n",
    "    w <- r1[2:N] - rho*r1[1:(N-1)]\n",
    "    ll1[k] <- sum(dnorm(w, mean=0, sd=sigma, log=TRUE))\n",
    "    # get likelihood using the matrix method\n",
    "    ll2[k] <- dmvnorm(r1, mean=rep(0,N), sigma=Sigma, log=TRUE)\n",
    "}\n",
    "\n",
    "# plot the two distributions side-by-side\n",
    "# these xlim and ylim should work well. adjust if not.\n",
    "options(repr.plot.width=6, repr.plot.height=3)\n",
    "par(mfrow=c(1,2))\n",
    "hist(ll1, freq=FALSE, main='', xlim=c(-330, -240), ylim=c(0,.04))\n",
    "hist(ll2, freq=FALSE, main='', xlim=c(-330, -240), ylim=c(0,.04))"
   ]
  },
  {
   "cell_type": "markdown",
   "metadata": {},
   "source": [
    "**Nice.**"
   ]
  }
 ],
 "metadata": {
  "kernelspec": {
   "display_name": "R",
   "language": "R",
   "name": "ir"
  },
  "language_info": {
   "codemirror_mode": "r",
   "file_extension": ".r",
   "mimetype": "text/x-r-source",
   "name": "R",
   "pygments_lexer": "r",
   "version": "3.4.1"
  }
 },
 "nbformat": 4,
 "nbformat_minor": 2
}
